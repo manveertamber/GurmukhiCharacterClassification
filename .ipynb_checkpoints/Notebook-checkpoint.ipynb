{
 "cells": [
  {
   "cell_type": "markdown",
   "metadata": {},
   "source": [
    "The first step was preparing the data. I gathered images of letters in gurmukhi by using various fonts and the omniglot dataset for gurmukhi. These images were cropped and resized into 40x40 pngs with a bit depth of 1. Each image was then used to create 9 more images by changing the image zoom and using different translations.\n",
    "\n",
    "3 different folders were made, a training set, cross validation set and an evaluation set. Each folder had 35 subfolders, one for each letter. The training set had about 70% of the images while the other two sets had 15% each."
   ]
  },
  {
   "cell_type": "code",
   "execution_count": 1,
   "metadata": {},
   "outputs": [],
   "source": [
    "import os, sys, numpy\n",
    "from PIL import Image\n",
    "\n",
    "# returns m x n matrix, m is number of pictures and n is (height x width), each image is its own row vector\n",
    "# also returns y an m x 1 column vector, an integer from 1-35 labelling the picture\n",
    "def ReadImagesIntoMatrix(dir):\n",
    "    \n",
    "    matrix = numpy.zeros(0)\n",
    "    \n",
    "    label = int(''.join(filter(str.isdigit, dir)))\n",
    "            \n",
    "    for filename in os.listdir(dir):\n",
    "        img = Image.open(dir + \"/\" + filename)\n",
    "        arr = numpy.array(img).ravel().astype(int)\n",
    "\n",
    "        if(matrix.size == 0):\n",
    "            matrix = arr\n",
    "            y = label\n",
    "        else:\n",
    "            matrix = numpy.row_stack((matrix, arr))\n",
    "            y = numpy.row_stack((y, label))\n",
    "    return matrix, y;"
   ]
  },
  {
   "cell_type": "code",
   "execution_count": 2,
   "metadata": {},
   "outputs": [],
   "source": [
    "TrainingSetDirectory = (os.path.dirname(os.path.abspath(\"Notebook.ipynb\"))) + \"\\TrainingSets\"\n",
    "CVSetDirectory = (os.path.dirname(os.path.abspath(\"Notebook.ipynb\"))) + \"\\TestSets\\CrossValidationSets\"\n",
    "TestSetDirectory = (os.path.dirname(os.path.abspath(\"Notebook.ipynb\"))) + \"\\TestSets\\EvaluationSets\""
   ]
  },
  {
   "cell_type": "code",
   "execution_count": 3,
   "metadata": {},
   "outputs": [],
   "source": [
    "X_TRAIN = numpy.zeros(0)\n",
    "Y_TRAIN = numpy.zeros(0)\n",
    "X_CV = numpy.zeros(0)\n",
    "Y_CV = numpy.zeros(0)\n",
    "X_TEST = numpy.zeros(0)\n",
    "Y_TEST = numpy.zeros(0)\n",
    "\n",
    "for subdir, dirs, files in os.walk(TrainingSetDirectory):\n",
    "    for dir in dirs:\n",
    "        \n",
    "        matrix, labels = ReadImagesIntoMatrix(TrainingSetDirectory + \"\\\\\" + dir)\n",
    "        if(X_TRAIN.size == 0):\n",
    "            X_TRAIN = matrix;\n",
    "            Y_TRAIN = labels;\n",
    "        else:\n",
    "            X_TRAIN = numpy.row_stack((X_TRAIN, matrix))\n",
    "            Y_TRAIN = numpy.row_stack((Y_TRAIN, labels))\n",
    "            \n",
    "for subdir, dirs, files in os.walk(CVSetDirectory):\n",
    "    for dir in dirs:\n",
    "        \n",
    "        matrix, labels = ReadImagesIntoMatrix(CVSetDirectory + \"\\\\\" + dir)\n",
    "        if(X_CV.size == 0):\n",
    "            X_CV = matrix;\n",
    "            Y_CV = labels;\n",
    "        else:\n",
    "            X_CV = numpy.row_stack((X_CV, matrix))\n",
    "            Y_CV = numpy.row_stack((Y_CV, labels))\n",
    "            \n",
    "for subdir, dirs, files in os.walk(TestSetDirectory):\n",
    "    for dir in dirs:\n",
    "        \n",
    "        matrix, labels = ReadImagesIntoMatrix(TestSetDirectory + \"\\\\\" + dir)\n",
    "        if(X_TEST.size == 0):\n",
    "            X_TEST = matrix;\n",
    "            Y_TEST = labels;\n",
    "        else:\n",
    "            X_TEST = numpy.row_stack((X_TEST, matrix))\n",
    "            Y_TEST = numpy.row_stack((Y_TEST, labels))"
   ]
  },
  {
   "cell_type": "code",
   "execution_count": 4,
   "metadata": {},
   "outputs": [],
   "source": [
    "def LabelToVector(Labels):\n",
    "    vectors = numpy.zeros(35)  \n",
    "    vectors[Labels[0]-1] = 1\n",
    "    \n",
    "    if(len(Labels) == 1):\n",
    "        return vectors    \n",
    "    \n",
    "    for i in range(1, len(Labels)):\n",
    "        nextRow = numpy.zeros(35) \n",
    "        nextRow[Labels[i]-1] = 1\n",
    "        vectors = numpy.row_stack((vectors, nextRow))\n",
    "    \n",
    "    return numpy.array(vectors)\n",
    "\n",
    "def VectorToLabel(Vectors):\n",
    "    labels = []\n",
    "    for i in range(len(Vectors)):\n",
    "        vector = Vectors[i,:]\n",
    "        maxIndex = 0;\n",
    "        for j in range(len(vector)):\n",
    "            if(vector[j] > vector[maxIndex]):\n",
    "                maxIndex = j\n",
    "        labels.append(maxIndex+1)\n",
    "    return labels"
   ]
  },
  {
   "cell_type": "code",
   "execution_count": 5,
   "metadata": {},
   "outputs": [],
   "source": [
    "Y_TRAIN = LabelToVector(Y_TRAIN)\n",
    "Y_CV = LabelToVector(Y_CV)\n",
    "Y_TEST = LabelToVector(Y_TEST)"
   ]
  },
  {
   "cell_type": "code",
   "execution_count": 6,
   "metadata": {},
   "outputs": [],
   "source": [
    "from sklearn.decomposition import PCA\n",
    "\n",
    "pca = PCA(n_components=300)\n",
    "pca.fit(X_TRAIN) \n",
    "\n",
    "X_TRAIN_pca = pca.transform(X_TRAIN) \n",
    "X_CV_pca = pca.transform(X_CV)\n",
    "X_TEST_pca = pca.transform(X_TEST)"
   ]
  },
  {
   "cell_type": "code",
   "execution_count": 7,
   "metadata": {},
   "outputs": [
    {
     "name": "stdout",
     "output_type": "stream",
     "text": [
      "The percent variance is 90.86981537610048\n"
     ]
    }
   ],
   "source": [
    "print(\"The percent variance is\", numpy.sum(pca.explained_variance_ratio_) * 100)\n",
    "newX = pca.inverse_transform(X_TRAIN_pca);"
   ]
  },
  {
   "cell_type": "code",
   "execution_count": 8,
   "metadata": {},
   "outputs": [],
   "source": [
    "import matplotlib.pyplot as plt\n",
    "import math \n",
    "def ViewImage(ImgVector):\n",
    "    height_and_width = int(math.sqrt(ImgVector.size))\n",
    "    img = numpy.reshape(ImgVector, (height_and_width,height_and_width))\n",
    "    plt.imshow(img);"
   ]
  },
  {
   "cell_type": "code",
   "execution_count": 9,
   "metadata": {},
   "outputs": [
    {
     "name": "stdout",
     "output_type": "stream",
     "text": [
      "Before PCA is applied\n"
     ]
    },
    {
     "data": {
      "image/png": "[encoded data removed]",
      "text/plain": [
       "<Figure size 432x288 with 1 Axes>"
      ]
     },
     "metadata": {
      "needs_background": "light"
     },
     "output_type": "display_data"
    }
   ],
   "source": [
    "print(\"Before PCA is applied\")\n",
    "ViewImage(X_TRAIN[0,:])"
   ]
  },
  {
   "cell_type": "code",
   "execution_count": 10,
   "metadata": {},
   "outputs": [
    {
     "name": "stdout",
     "output_type": "stream",
     "text": [
      "After PCA is applied\n"
     ]
    },
    {
     "data": {
      "image/png": "[encoded data removed]",
      "text/plain": [
       "<Figure size 432x288 with 1 Axes>"
      ]
     },
     "metadata": {
      "needs_background": "light"
     },
     "output_type": "display_data"
    }
   ],
   "source": [
    "print(\"After PCA is applied\")\n",
    "ViewImage(newX[0,:])"
   ]
  },
  {
   "cell_type": "code",
   "execution_count": 11,
   "metadata": {},
   "outputs": [],
   "source": [
    "# Variables that describe the neural net itself \n",
    "\n",
    "INPUT_LAYER_UNITS = 300 # notice this number is the same as n_components\n",
    "HIDDEN_LAYER_UNITS = 200 # This value was found to be good at balancing performance, while also preventing overfitting or having the network memorize the inputs\n",
    "\n",
    "OUTPUT_LAYER_UNITS = 35 # there are 35 letters in the gurmukhi alphabet\n",
    "\n",
    "#randomly initialize theta1 and theta2 withs weights over [-0.125, 0.125)\n",
    "theta1 = numpy.random.rand(HIDDEN_LAYER_UNITS, INPUT_LAYER_UNITS + 1)/4 - 0.125\n",
    "theta2 = numpy.random.rand(OUTPUT_LAYER_UNITS, HIDDEN_LAYER_UNITS + 1)/4 - 0.125"
   ]
  },
  {
   "cell_type": "code",
   "execution_count": 12,
   "metadata": {},
   "outputs": [],
   "source": [
    "# returns m x 35 matrix\n",
    "def forwardPropagate(X, theta1, theta2):\n",
    "    # add x0 = 1 column\n",
    "    to_insert = numpy.ones(len(X))\n",
    "    a1 = numpy.insert(X, 0, to_insert, axis = 1)\n",
    "    z2 = numpy.dot(a1, theta1.transpose())\n",
    "    a2 = sigmoid(z2)\n",
    "    \n",
    "    to_insert = numpy.ones(len(a2))\n",
    "    a2 = numpy.insert(a2, 0, to_insert, axis = 1)\n",
    "    z3 = numpy.dot(a2, theta2.transpose())\n",
    "    a3 = sigmoid(z3)\n",
    "    return a3"
   ]
  },
  {
   "cell_type": "markdown",
   "metadata": {},
   "source": [
    "![From Stanford's Coursera machine learning course](https://raw.githubusercontent.com/ritchieng/machine-learning-stanford/master/w5_neural_networks_learning/forwardpropagation.png)"
   ]
  },
  {
   "cell_type": "code",
   "execution_count": 13,
   "metadata": {},
   "outputs": [],
   "source": [
    "def costFunction(X, y, theta1, theta2, reg_parameter):\n",
    "    \n",
    "    # m x 35 matrix\n",
    "    hypothesis = forwardPropagate(X, theta1, theta2);\n",
    "    firstterm = numpy.sum(numpy.multiply(numpy.log(hypothesis), y) +  numpy.multiply(numpy.log(numpy.subtract(1,hypothesis)), numpy.subtract(1,y))) / len(X)\n",
    "    secondterm = (numpy.sum(numpy.square(theta1)) - numpy.sum(numpy.square(theta1[:,0])) + numpy.sum(numpy.square(theta2)) - numpy.sum(numpy.square(theta2[:,0]))) * reg_parameter / (2 * len(X))\n",
    "    return -1 * (firstterm) + secondterm"
   ]
  },
  {
   "cell_type": "markdown",
   "metadata": {},
   "source": [
    "![cost function for neural net](https://dirtysalt.github.io/html/images/neural-network-cost-function.png)"
   ]
  },
  {
   "cell_type": "code",
   "execution_count": 14,
   "metadata": {},
   "outputs": [],
   "source": [
    "def sigmoid(matrix):\n",
    "    return numpy.divide(1,numpy.add(1,numpy.exp(numpy.multiply(-1,matrix))))  "
   ]
  },
  {
   "cell_type": "markdown",
   "metadata": {},
   "source": [
    "![sigmoid function](https://miro.medium.com/max/970/1*Xu7B5y9gp0iL5ooBj7LtWw.png)"
   ]
  },
  {
   "cell_type": "code",
   "execution_count": 15,
   "metadata": {},
   "outputs": [],
   "source": [
    "# return (accumulated) gradient for theta1, theta2\n",
    "def partialDerivative(X, Y, theta1, theta2, reg_parameter):\n",
    "         \n",
    "    theta1_grad = numpy.zeros(theta1.shape)\n",
    "    theta2_grad = numpy.zeros(theta2.shape)\n",
    "    \n",
    "    m = len(X)\n",
    "    \n",
    "    for i in range(m):\n",
    "        x = X[i,:]\n",
    "        y = Y[i,:]\n",
    "        # add x0\n",
    "        a1 = numpy.insert(x, 0, 1)\n",
    "        z2 = numpy.dot(a1, theta1.transpose())\n",
    "        a2 = sigmoid(z2)\n",
    "        \n",
    "        a2 = numpy.insert(a2, 0, 1)\n",
    "        z3 = numpy.dot(a2, theta2.transpose())\n",
    "        a3 = sigmoid(z3)\n",
    "        \n",
    "        s3 = a3 - y;\n",
    "\n",
    "        s2 = numpy.multiply(numpy.dot(theta2.transpose(), s3.transpose()), numpy.multiply(a2, (1-a2)))\n",
    "        # remove first term\n",
    "        s2 = numpy.delete(s2,0)\n",
    "       \n",
    "        theta1_grad = theta1_grad + numpy.outer(s2, a1)\n",
    "        theta2_grad = theta2_grad + numpy.outer(s3, a2)\n",
    "   \n",
    "   \n",
    "    selector1 = [x for x in range(theta1.shape[1]) if x != 0]\n",
    "    selector2 = [x for x in range(theta2.shape[1]) if x != 0]        \n",
    "    theta1_grad = (theta1_grad + (numpy.append(numpy.zeros((len(theta1), 1)) , theta1[:,selector1], axis = 1)) * reg_parameter) / m;\n",
    "    theta2_grad = (theta2_grad + (numpy.append(numpy.zeros((len(theta2), 1)) , theta2[:,selector2], axis = 1)) * reg_parameter) / m;\n",
    "    \n",
    "    return theta1_grad, theta2_grad"
   ]
  },
  {
   "cell_type": "markdown",
   "metadata": {},
   "source": [
    "![Backpropagation, computing error (Coursera machine learning)](https://i.redd.it/3hki8lsuu0oz.png)"
   ]
  },
  {
   "cell_type": "markdown",
   "metadata": {},
   "source": [
    "![Backpropagation algorithm (Coursera machine learning)](https://i.stack.imgur.com/uzShq.jpg)"
   ]
  },
  {
   "cell_type": "code",
   "execution_count": 16,
   "metadata": {},
   "outputs": [],
   "source": [
    "def gradientCheck(X, Y, theta1, theta2, reg_parameter):\n",
    "    \n",
    "    theta1_grad = numpy.zeros(theta1.shape)\n",
    "    theta2_grad = numpy.zeros(theta2.shape)\n",
    "    \n",
    "    epsilon = 1e-4\n",
    "    \n",
    "    for i in range(len(theta1)):\n",
    "        for j in range(len(theta1[i,:])):\n",
    "            newtheta1plus = numpy.copy(theta1)\n",
    "            newtheta1minus = numpy.copy(theta1)\n",
    "            newtheta1plus[i,j] = theta1[i,j] + epsilon\n",
    "            newtheta1minus[i,j] = theta1[i,j] - epsilon\n",
    "            theta1_grad[i,j] = (costFunction(X,Y,newtheta1plus, theta2, reg_parameter) - costFunction(X,Y,newtheta1minus, theta2, reg_parameter)) / (2 * epsilon)\n",
    "              \n",
    "    for i in range(len(theta2)):\n",
    "        for j in range(len(theta2[i,:])):\n",
    "            newtheta2plus = numpy.copy(theta2)\n",
    "            newtheta2minus = numpy.copy(theta2)\n",
    "            newtheta2plus[i,j] = theta2[i,j] + epsilon\n",
    "            newtheta2minus[i,j] = theta2[i,j] - epsilon\n",
    "            theta2_grad[i,j] = (costFunction(X,Y,theta1, newtheta2plus, reg_parameter) - costFunction(X,Y,theta1, newtheta2minus, reg_parameter)) / (2 * epsilon)\n",
    " \n",
    "    return theta1_grad, theta2_grad"
   ]
  },
  {
   "cell_type": "markdown",
   "metadata": {},
   "source": [
    "![Gradient Checking logic](https://i.ytimg.com/vi/u33GlS8IJws/hqdefault.jpg)"
   ]
  },
  {
   "cell_type": "code",
   "execution_count": null,
   "metadata": {},
   "outputs": [],
   "source": [
    "theta1a, theta2a = partialDerivative(X_TRAIN_pca, Y_TRAIN, theta1, theta2, 1) # set regularization parameter to 1\n",
    "theta1b, theta2b = gradientCheck(X_TRAIN_pca, Y_TRAIN, theta1, theta2, 1) # will take very long to run, to prove that this works set the hyperparameters to smaller values for this\n",
    "print(numpy.max(numpy.absolute(theta1a-theta1b))) # should be very small(maybe around 1e-9)\n",
    "print(numpy.max(numpy.absolute(theta2a-theta2b))) # should be very small(maybe around 1e-9)"
   ]
  },
  {
   "cell_type": "code",
   "execution_count": 17,
   "metadata": {},
   "outputs": [],
   "source": [
    "def performGradientDescent(X, Y, X_CV, Y_CV, theta1, theta2, reg_parameter, learning_rate, iterations):\n",
    "    \n",
    "    plt.axis([0, iterations, 0, 30])\n",
    "    \n",
    "    xaxis = []\n",
    "    yaxis = []\n",
    "    yaxis2 = []\n",
    "    \n",
    "\n",
    "    for step in range(iterations):\n",
    "        theta1_grad, theta2_grad = partialDerivative(X, Y, theta1, theta2, reg_parameter)\n",
    "        theta1 = theta1 - learning_rate * theta1_grad\n",
    "        theta2 = theta2 - learning_rate * theta2_grad\n",
    "        cost = costFunction(X, Y, theta1, theta2, 0)\n",
    "        TestCost =  costFunction(X_CV, Y_CV, theta1, theta2, 0)\n",
    "        \n",
    "        xaxis.append(step)\n",
    "        yaxis.append(cost)\n",
    "        yaxis2.append(TestCost)\n",
    "        print(step)\n",
    "        print(cost)\n",
    "        print(TestCost)\n",
    "        \n",
    "    plt.plot(xaxis,yaxis)\n",
    "    plt.plot(xaxis,yaxis2)\n",
    "    print(yaxis[-1])\n",
    "    print(yaxis2[-1])\n",
    "    \n",
    "    return theta1, theta2\n"
   ]
  },
  {
   "cell_type": "code",
   "execution_count": null,
   "metadata": {},
   "outputs": [],
   "source": [
    "trained_theta1, trained_theta2 = performGradientDescent(X_TRAIN_pca, Y_TRAIN, X_CV_pca, Y_CV, theta1, theta2, 5, 1, 10000)\n",
    "hypothesis_set = forwardPropagate(X_TEST_pca, trained_theta1, trained_theta2)\n",
    "def checkCorrect(predictions, actual):\n",
    "    correct = 0\n",
    "    num = 0\n",
    "    for i in range(len(predictions)):\n",
    "        num = num+1\n",
    "        if predictions[i] == actual[i]:\n",
    "            correct+=1\n",
    "    return correct / num\n",
    "\n",
    "print(\"Percent of test set predicted correctly is\", checkCorrect(VectorToLabel(hypothesis_set), VectorToLabel(Y_TEST)) * 100)"
   ]
  },
  {
   "cell_type": "markdown",
   "metadata": {},
   "source": [
    "The following is pretrained model with 300 input units and 200 hidden layer units. There definitely exists a set of parameters theta1 and theta2 with better accuracy. I faced limitations because of slow training that hindered my ability to test a number of different combinations of the number of input units, hidden layer units, hidden layers, and the regularization parameter."
   ]
  },
  {
   "cell_type": "code",
   "execution_count": 19,
   "metadata": {},
   "outputs": [
    {
     "name": "stdout",
     "output_type": "stream",
     "text": [
      "Percent of test set predicted correctly is 77.77365491651206\n"
     ]
    }
   ],
   "source": [
    "trained_theta1 = numpy.load(\"theta1.npy\")\n",
    "trained_theta2 = numpy.load(\"theta2.npy\")\n",
    "hypothesis_set = forwardPropagate(X_TEST_pca, trained_theta1, trained_theta2)\n",
    "def checkCorrect(predictions, actual):\n",
    "    correct = 0\n",
    "    num = 0\n",
    "    for i in range(len(predictions)):\n",
    "        num = num+1\n",
    "        if predictions[i] == actual[i]:\n",
    "            correct+=1\n",
    "    return correct / num\n",
    "\n",
    "print(\"Percent of test set predicted correctly is\", checkCorrect(VectorToLabel(hypothesis_set), VectorToLabel(Y_TEST)) * 100)"
   ]
  },
  {
   "cell_type": "markdown",
   "metadata": {},
   "source": [
    "Even if the model incorrectly labels a character, the model isn't useless. For each picture, each character is given a probability of the image being that character. With the example of getting a model to predict what word is in a picture, perhaps an n-gram model can be used with this neural network to recognize the words.\n",
    "\n",
    "For whatever application this model is used, more data is needed with respect to that application. The test data is admittedly very similar to the training data because of the lack of overall data."
   ]
  }
 ],
 "metadata": {
  "kernelspec": {
   "display_name": "Python 3",
   "language": "python",
   "name": "python3"
  },
  "language_info": {
   "codemirror_mode": {
    "name": "ipython",
    "version": 3
   },
   "file_extension": ".py",
   "mimetype": "text/x-python",
   "name": "python",
   "nbconvert_exporter": "python",
   "pygments_lexer": "ipython3",
   "version": "3.7.3"
  }
 },
 "nbformat": 4,
 "nbformat_minor": 2
}
